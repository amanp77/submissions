{
 "cells": [
  {
   "cell_type": "markdown",
   "id": "ca2fa75f",
   "metadata": {},
   "source": [
    "# Question 1: Distance Matrix Calculation "
   ]
  },
  {
   "cell_type": "code",
   "execution_count": null,
   "id": "df6c85a3",
   "metadata": {},
   "outputs": [],
   "source": [
    "import pandas as pd\n",
    "\n",
    "def calculate_distance_matrix(input_file):\n",
    "    # Read the CSV file into a DataFrame\n",
    "    df = pd.read_csv(input_file)\n",
    "\n",
    "    distances = {}\n",
    "\n",
    "    for index, row in df.iterrows():\n",
    "        distances.setdefault(row['id_start'], {})[row['id_end']] = row['distance']\n",
    "\n",
    "        distances.setdefault(row['id_end'], {})[row['id_start']] = row['distance']\n",
    "\n",
    "    ids = sorted(set(df['id_start']).union(df['id_end']))\n",
    "    distance_matrix = pd.DataFrame(0.0, index=ids, columns=ids)\n",
    "\n",
    "    for start in ids:\n",
    "        for end in ids:\n",
    "            if start != end:\n",
    "                distance_matrix.at[start, end] = distances.get(start, {}).get(end, 0)\n",
    "\n",
    "    for via in ids:\n",
    "        for start in ids:\n",
    "            for end in ids:\n",
    "                if start != end and distances.get(start, {}).get(end, None) is None:\n",
    "                    distance_matrix.at[start, end] += distance_matrix.at[start, via] * distance_matrix.at[via, end]\n",
    "\n",
    "    return distance_matrix\n",
    "\n",
    "input_file = 'dataset-3.csv'\n",
    "result_df = calculate_distance_matrix(input_file)\n",
    "print(result_df)\n"
   ]
  },
  {
   "cell_type": "code",
   "execution_count": null,
   "id": "fbf667e4",
   "metadata": {},
   "outputs": [],
   "source": []
  },
  {
   "cell_type": "markdown",
   "id": "6bd62225",
   "metadata": {},
   "source": [
    "# Question 2: Unroll Distance Matrix"
   ]
  },
  {
   "cell_type": "code",
   "execution_count": null,
   "id": "85c01a91",
   "metadata": {},
   "outputs": [],
   "source": [
    "import pandas as pd\n",
    "\n",
    "def unroll_distance_matrix(distance_matrix):\n",
    "    ids = distance_matrix.index.tolist()\n",
    "\n",
    "    unrolled_data = []\n",
    "\n",
    "    for start in ids:\n",
    "        for end in ids:\n",
    "            if start != end:\n",
    "                unrolled_data.append({'id_start': start, 'id_end': end, 'distance': distance_matrix.at[start, end]})\n",
    "\n",
    "    unrolled_df = pd.DataFrame(unrolled_data)\n",
    "\n",
    "    return unrolled_df\n",
    "\n",
    "input_file = 'dataset-3.csv'\n",
    "distance_matrix = calculate_distance_matrix(input_file)\n",
    "unrolled_df = unroll_distance_matrix(distance_matrix)\n",
    "print(unrolled_df)\n"
   ]
  },
  {
   "cell_type": "markdown",
   "id": "ee1c4dca",
   "metadata": {},
   "source": [
    "# Question 3: Finding IDs within Percentage Threshold\n"
   ]
  },
  {
   "cell_type": "code",
   "execution_count": null,
   "id": "9df24508",
   "metadata": {},
   "outputs": [],
   "source": [
    "import pandas as pd\n",
    "\n",
    "def find_ids_within_ten_percentage_threshold(df, reference_value):\n",
    "    reference_df = df[df['id_start'] == reference_value]\n",
    "\n",
    "    average_distance = reference_df['distance'].mean()\n",
    "\n",
    "    lower_threshold = average_distance - (average_distance * 0.1)\n",
    "    upper_threshold = average_distance + (average_distance * 0.1)\n",
    "\n",
    "    within_threshold_df = df[(df['distance'] >= lower_threshold) & (df['distance'] <= upper_threshold)]\n",
    "\n",
    "    result_ids = within_threshold_df['id_start'].unique()\n",
    "    result_ids.sort()\n",
    "\n",
    "    return result_ids\n",
    "\n",
    "input_file = 'dataset-3.csv'\n",
    "distance_matrix = calculate_distance_matrix(input_file)\n",
    "unrolled_df = unroll_distance_matrix(distance_matrix)\n",
    "\n",
    "reference_value = 1 \n",
    "result_ids = find_ids_within_ten_percentage_threshold(unrolled_df, reference_value)\n",
    "print(result_ids)\n"
   ]
  },
  {
   "cell_type": "markdown",
   "id": "734a4b0e",
   "metadata": {},
   "source": [
    "# Question 4: Calculate Toll Rate\n"
   ]
  },
  {
   "cell_type": "code",
   "execution_count": null,
   "id": "f7844ef4",
   "metadata": {
    "scrolled": true
   },
   "outputs": [],
   "source": [
    "import pandas as pd\n",
    "\n",
    "def calculate_toll_rate(df):\n",
    "    # Create a copy of the input DataFrame to avoid modifying the original\n",
    "    result_df = df.copy()\n",
    "\n",
    "    # Define rate coefficients for each vehicle type\n",
    "    rate_coefficients = {'moto': 0.8, 'car': 1.2, 'rv': 1.5, 'bus': 2.2, 'truck': 3.6}\n",
    "\n",
    "    # Calculate toll rates for each vehicle type\n",
    "    for vehicle_type, rate_coefficient in rate_coefficients.items():\n",
    "        result_df[vehicle_type] = result_df['distance'] * rate_coefficient\n",
    "\n",
    "    return result_df\n",
    "\n",
    "# Example usage:\n",
    "input_file = 'dataset-3.csv'\n",
    "distance_matrix = calculate_distance_matrix(input_file)\n",
    "unrolled_df = unroll_distance_matrix(distance_matrix)\n",
    "\n",
    "# Add toll rates to the DataFrame\n",
    "result_df_with_rates = calculate_toll_rate(unrolled_df)\n",
    "print(result_df_with_rates)\n"
   ]
  },
  {
   "cell_type": "code",
   "execution_count": null,
   "id": "50cdd471",
   "metadata": {},
   "outputs": [],
   "source": []
  }
 ],
 "metadata": {
  "kernelspec": {
   "display_name": "Python 3 (ipykernel)",
   "language": "python",
   "name": "python3"
  },
  "language_info": {
   "codemirror_mode": {
    "name": "ipython",
    "version": 3
   },
   "file_extension": ".py",
   "mimetype": "text/x-python",
   "name": "python",
   "nbconvert_exporter": "python",
   "pygments_lexer": "ipython3",
   "version": "3.9.13"
  }
 },
 "nbformat": 4,
 "nbformat_minor": 5
}
