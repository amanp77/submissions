{
 "cells": [
  {
   "cell_type": "markdown",
   "id": "f9360ee5",
   "metadata": {},
   "source": [
    "## Question 1: Car Matrix Generation"
   ]
  },
  {
   "cell_type": "code",
   "execution_count": null,
   "id": "4c4842ef",
   "metadata": {
    "scrolled": true
   },
   "outputs": [],
   "source": [
    "import pandas as pd\n",
    "\n",
    "def generate_car_matrix(file_path):\n",
    "    df = pd.read_csv(file_path)\n",
    "    new_df = df[['id_1', 'id_2', 'car']].copy()\n",
    "    pivot_df = new_df.pivot(index='id_1', columns='id_2', values='car').fillna(0)\n",
    "    pivot_df.values[[range(len(pivot_df))]*2] = 0\n",
    "\n",
    "    return pivot_df\n",
    "\n",
    "file_path = 'dataset-1 (1).csv'\n",
    "\n",
    "result_df = generate_car_matrix(file_path)\n",
    "\n",
    "# Display the resulting DataFrame\n",
    "print(result_df)"
   ]
  },
  {
   "cell_type": "code",
   "execution_count": null,
   "id": "b79920e8",
   "metadata": {},
   "outputs": [],
   "source": []
  },
  {
   "cell_type": "markdown",
   "id": "01aee016",
   "metadata": {},
   "source": [
    "## Question 2: Car Type Count Calculation"
   ]
  },
  {
   "cell_type": "code",
   "execution_count": null,
   "id": "f406ee76",
   "metadata": {},
   "outputs": [],
   "source": [
    "import pandas as pd\n",
    "\n",
    "def get_type_count(df):\n",
    "    # Add a new categorical column 'car_type' based on values of the 'car' column\n",
    "    df['car_type'] = pd.cut(df['car'], bins=[float('-inf'), 15, 25, float('inf')],\n",
    "                            labels=['low', 'medium', 'high'], right=False)\n",
    "\n",
    "    # Calculate the count of occurrences for each car_type category\n",
    "    type_count = df['car_type'].value_counts().to_dict()\n",
    "\n",
    "    # Sort the dictionary alphabetically based on keys\n",
    "    sorted_type_count = dict(sorted(type_count.items()))\n",
    "\n",
    "    return sorted_type_count\n",
    "\n",
    "# Example usage:\n",
    "file_path = 'dataset-1 (1).csv'\n",
    "df = pd.read_csv(file_path)\n",
    "\n",
    "result = get_type_count(df)\n",
    "print(result)\n"
   ]
  },
  {
   "cell_type": "code",
   "execution_count": null,
   "id": "e055d3a5",
   "metadata": {},
   "outputs": [],
   "source": []
  },
  {
   "cell_type": "markdown",
   "id": "2a7d6f2c",
   "metadata": {},
   "source": [
    "## Question 3: Bus Count Index Retrieval\n"
   ]
  },
  {
   "cell_type": "code",
   "execution_count": null,
   "id": "9c55975f",
   "metadata": {},
   "outputs": [],
   "source": [
    "import pandas as pd\n",
    "\n",
    "def get_bus_indexes(df):\n",
    "    bus_mean = df['bus'].mean()\n",
    "    bus_indexes = df[df['bus'] > 2 * bus_mean].index.tolist()\n",
    "    sorted_bus_indexes = sorted(bus_indexes)\n",
    "\n",
    "    return sorted_bus_indexes\n",
    "\n",
    "file_path = 'dataset-1 (1).csv'\n",
    "df = pd.read_csv(file_path)\n",
    "\n",
    "result = get_bus_indexes(df)\n",
    "print(result)\n"
   ]
  },
  {
   "cell_type": "code",
   "execution_count": null,
   "id": "b601dcfd",
   "metadata": {},
   "outputs": [],
   "source": []
  },
  {
   "cell_type": "markdown",
   "id": "14cec1bf",
   "metadata": {},
   "source": [
    "## Question 4: Route Filtering\n"
   ]
  },
  {
   "cell_type": "code",
   "execution_count": null,
   "id": "04e064e0",
   "metadata": {},
   "outputs": [],
   "source": [
    "import pandas as pd\n",
    "\n",
    "def filter_routes(df):\n",
    "    route_truck_avg = df.groupby('route')['truck'].mean()\n",
    "    selected_routes = route_truck_avg[route_truck_avg > 7].index.tolist()\n",
    "    sorted_selected_routes = sorted(selected_routes)\n",
    "\n",
    "    return sorted_selected_routes\n",
    "\n",
    "file_path = 'dataset-1 (1).csv'\n",
    "df = pd.read_csv(file_path)\n",
    "\n",
    "result = filter_routes(df)\n",
    "print(result)\n"
   ]
  },
  {
   "cell_type": "code",
   "execution_count": null,
   "id": "522cea65",
   "metadata": {},
   "outputs": [],
   "source": []
  },
  {
   "cell_type": "markdown",
   "id": "65a3e4f0",
   "metadata": {},
   "source": [
    "## Question 5: Matrix Value Modification"
   ]
  },
  {
   "cell_type": "code",
   "execution_count": null,
   "id": "b367428c",
   "metadata": {
    "scrolled": true
   },
   "outputs": [],
   "source": [
    "import pandas as pd\n",
    "\n",
    "def multiply_matrix(result_df):\n",
    "    modified_df = result_df.copy()\n",
    "\n",
    "    modified_df[modified_df > 20] *= 0.75\n",
    "    modified_df[modified_df <= 20] *= 1.25\n",
    "\n",
    "    modified_df = modified_df.round(1)\n",
    "\n",
    "    return modified_df\n",
    "\n",
    "\n",
    "result_df_modified = multiply_matrix(result_df)\n",
    "print(result_df_modified)\n"
   ]
  },
  {
   "cell_type": "code",
   "execution_count": null,
   "id": "a2a8b0ff",
   "metadata": {},
   "outputs": [],
   "source": []
  },
  {
   "cell_type": "markdown",
   "id": "c88275d1",
   "metadata": {},
   "source": [
    "## Question 6: Time Check"
   ]
  },
  {
   "cell_type": "code",
   "execution_count": null,
   "id": "b602e757",
   "metadata": {},
   "outputs": [],
   "source": [
    "import pandas as pd\n",
    "\n",
    "def check_timestamp_completeness(df):\n",
    "    # Convert timestamp columns to datetime objects\n",
    "    df['start_timestamp'] = pd.to_datetime(df['startDay'] + ' ' + df['startTime'])\n",
    "    df['end_timestamp'] = pd.to_datetime(df['endDay'] + ' ' + df['endTime'])\n",
    "\n",
    "    # Check if the timestamps cover a full 24-hour period and span all 7 days of the week\n",
    "    completeness_check = (\n",
    "        (df['start_timestamp'].dt.time == pd.Timestamp('00:00:00').time()) &\n",
    "        (df['end_timestamp'].dt.time == pd.Timestamp('23:59:59').time()) &\n",
    "        (df['start_timestamp'].dt.dayofweek == 0) &  # Monday\n",
    "        (df['end_timestamp'].dt.dayofweek == 6)      # Sunday\n",
    "    )\n",
    "\n",
    "    # Create a multi-index boolean series\n",
    "    completeness_series = completeness_check.groupby(['id', 'id_2']).all()\n",
    "\n",
    "    return completeness_series\n",
    "\n",
    "# Example usage:\n",
    "csv_file_path = 'dataset-2.csv'  # Update with the actual path to your CSV file\n",
    "df = pd.read_csv(csv_file_path)\n",
    "\n",
    "result = check_timestamp_completeness(df)\n",
    "print(result)\n"
   ]
  },
  {
   "cell_type": "code",
   "execution_count": null,
   "id": "58cdef07",
   "metadata": {},
   "outputs": [],
   "source": []
  }
 ],
 "metadata": {
  "kernelspec": {
   "display_name": "Python 3 (ipykernel)",
   "language": "python",
   "name": "python3"
  },
  "language_info": {
   "codemirror_mode": {
    "name": "ipython",
    "version": 3
   },
   "file_extension": ".py",
   "mimetype": "text/x-python",
   "name": "python",
   "nbconvert_exporter": "python",
   "pygments_lexer": "ipython3",
   "version": "3.9.13"
  }
 },
 "nbformat": 4,
 "nbformat_minor": 5
}
